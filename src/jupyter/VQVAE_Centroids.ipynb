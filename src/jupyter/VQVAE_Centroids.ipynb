{
 "cells": [
  {
   "cell_type": "code",
   "execution_count": 1,
   "metadata": {},
   "outputs": [],
   "source": [
    "import os\n",
    "import sys\n",
    "module_path = os.path.abspath(os.path.join('..'))\n",
    "if module_path not in sys.path:\n",
    "    sys.path.append(module_path)\n"
   ]
  },
  {
   "cell_type": "code",
   "execution_count": null,
   "metadata": {},
   "outputs": [],
   "source": []
  },
  {
   "cell_type": "code",
   "execution_count": 2,
   "metadata": {},
   "outputs": [],
   "source": [
    "import torch\n",
    "\n",
    "import numpy as np\n",
    "import matplotlib.pylab as plt\n",
    "\n",
    "from os.path import join\n",
    "from pathlib import Path\n",
    "\n",
    "from models.VQVAE import VectorQuantizerEMA, Encoder, Decoder\n",
    "\n",
    "import pytorch_lightning as pl\n",
    "\n",
    "from torchvision.utils import make_grid\n",
    "from customLoader import CustomMinecraftData\n",
    "from torchvision.transforms import transforms\n"
   ]
  },
  {
   "cell_type": "code",
   "execution_count": 3,
   "metadata": {},
   "outputs": [],
   "source": [
    "class VQVAE(pl.LightningModule):\n",
    "    def __init__(self, num_hiddens, num_residual_layers, num_residual_hiddens,\n",
    "                 num_embeddings, embedding_dim, commitment_cost, decay=0,\n",
    "                 batch_size=256, lr=0.001, split=0.95, img_size=64):\n",
    "        super(VQVAE, self).__init__()\n",
    "\n",
    "\n",
    "        self.batch_size = batch_size\n",
    "        self.lr = lr\n",
    "        self.split = split\n",
    "\n",
    "        self._encoder = Encoder(3, num_hiddens,\n",
    "                                num_residual_layers,\n",
    "                                num_residual_hiddens)\n",
    "        # self._pre_vq_conv = nn.Conv2d(in_channels=num_hiddens,\n",
    "        #                               out_channels=embedding_dim,\n",
    "        #                               kernel_size=1,\n",
    "        #                               stride=1)\n",
    "        if decay > 0.0:\n",
    "            self._vq_vae = VectorQuantizerEMA(num_embeddings, embedding_dim,\n",
    "                                              commitment_cost, decay)\n",
    "        else:\n",
    "            self._vq_vae = VectorQuantizer(num_embeddings, embedding_dim,\n",
    "                                           commitment_cost)\n",
    "        self._decoder = Decoder(num_hiddens,\n",
    "                                num_hiddens,\n",
    "                                num_residual_layers,\n",
    "                                num_residual_hiddens)\n",
    "\n",
    "        self.example_input_array = torch.rand(batch_size, 3, img_size, img_size)\n",
    "\n",
    "        self.transform = transforms.Compose([\n",
    "                                  transforms.ToTensor(),\n",
    "                                  transforms.Normalize((0.5,0.5,0.5), (1.0,1.0,1.0))\n",
    "                                ])\n",
    "\n",
    "    def forward(self, x):\n",
    "        z = self._encoder(x)\n",
    "        # z = self._pre_vq_conv(z)\n",
    "        loss, quantized, perplexity, _ = self._vq_vae(z)\n",
    "        x_recon = self._decoder(quantized)\n",
    "\n",
    "        return loss, x_recon, perplexity\n",
    "\n",
    "    def training_step(self, batch, batch_idx):\n",
    "\n",
    "        vq_loss, data_recon, perplexity = self(batch)\n",
    "        recon_error = F.mse_loss(data_recon, batch)\n",
    "        loss = recon_error + vq_loss\n",
    "\n",
    "        self.log('loss/train', loss, on_step=False, on_epoch=True)\n",
    "        self.log('perplexity/train', perplexity, on_step=False, on_epoch=True)\n",
    "\n",
    "        return loss\n",
    "\n",
    "    def validation_step(self, batch, batch_idx):\n",
    "\n",
    "        vq_loss, data_recon, perplexity = self(batch)\n",
    "        recon_error = F.mse_loss(data_recon, batch)\n",
    "        loss = recon_error + vq_loss\n",
    "\n",
    "        self.log('loss/val', loss, on_step=False, on_epoch=True)\n",
    "        self.log('perplexity/val', perplexity, on_step=False, on_epoch=True)\n",
    "\n",
    "        if batch_idx == 0:\n",
    "            grid = make_grid(data_recon[:64].cpu().data)\n",
    "            grid = grid.permute(1,2,0)\n",
    "            self.logger.experiment.log({\"Images\": [wandb.Image(grid.numpy())]})\n",
    "\n",
    "        return loss\n",
    "\n",
    "    def configure_optimizers(self):\n",
    "        return torch.optim.Adam(params=self.parameters(), lr=self.lr, weight_decay=1e-5)\n",
    "\n",
    "    def train_dataloader(self):\n",
    "        train_dataset = CustomMinecraftData('CustomTrajectories1', 'train', self.split, transform=self.transform)\n",
    "        train_dataloader = DataLoader(train_dataset, batch_size=self.batch_size, shuffle=True, num_workers=2)\n",
    "        return train_dataloader\n",
    "\n",
    "    def val_dataloader(self):\n",
    "        val_dataset = CustomMinecraftData('CustomTrajectories1', 'val', self.split, transform=self.transform)\n",
    "        val_dataloader = DataLoader(val_dataset, batch_size=self.batch_size, shuffle=False, num_workers=2)\n",
    "        return val_dataloader\n",
    "\n",
    "\n",
    "    def get_centroids(self, idx):\n",
    "        z_idx = torch.tensor(idx).cuda()\n",
    "        embeddings = torch.index_select(self._vq_vae._embedding.weight.detach(), dim=0, index=z_idx)\n",
    "        embeddings = embeddings.view((1,2,2,64))\n",
    "        embeddings = embeddings.permute(0, 3, 1, 2).contiguous()\n",
    "\n",
    "        return self._decoder(embeddings)\n",
    "\n",
    "    def save_encoding_indices(self, x):\n",
    "        z = self._encoder(x)\n",
    "        z = self._pre_vq_conv(z)\n",
    "        _, _, _, encoding_indices = self._vq_vae(z)\n",
    "        return encoding_indices"
   ]
  },
  {
   "cell_type": "code",
   "execution_count": 16,
   "metadata": {},
   "outputs": [],
   "source": [
    "conf = {\n",
    "  'split': 0.95,\n",
    "  'lr': 0.001,\n",
    "  'batch_size': 256,\n",
    "  'num_hiddens': 64,\n",
    "  'num_residual_hiddens': 32,\n",
    "  'num_residual_layers': 2,\n",
    "  'embedding_dim': 256,\n",
    "  'num_embeddings': 5,\n",
    "  'commitment_cost': 0.25,\n",
    "  'decay': 0.99\n",
    "}"
   ]
  },
  {
   "cell_type": "code",
   "execution_count": 17,
   "metadata": {},
   "outputs": [
    {
     "data": {
      "text/plain": [
       "VQVAE(\n",
       "  (_encoder): Encoder(\n",
       "    (_conv_1): Conv2d(3, 16, kernel_size=(4, 4), stride=(2, 2), padding=(1, 1))\n",
       "    (_conv_2): Conv2d(16, 32, kernel_size=(4, 4), stride=(2, 2), padding=(1, 1))\n",
       "    (_conv_3): Conv2d(32, 64, kernel_size=(4, 4), stride=(2, 2), padding=(1, 1))\n",
       "    (_conv_4): Conv2d(64, 64, kernel_size=(4, 4), stride=(2, 2), padding=(1, 1))\n",
       "    (_conv_5): Conv2d(64, 64, kernel_size=(4, 4), stride=(2, 2), padding=(1, 1))\n",
       "    (_residual_stack): ResidualStack(\n",
       "      (_layers): ModuleList(\n",
       "        (0): Residual(\n",
       "          (_block): Sequential(\n",
       "            (0): ReLU(inplace=True)\n",
       "            (1): Conv2d(64, 32, kernel_size=(3, 3), stride=(1, 1), padding=(1, 1), bias=False)\n",
       "            (2): ReLU(inplace=True)\n",
       "            (3): Conv2d(32, 64, kernel_size=(1, 1), stride=(1, 1), bias=False)\n",
       "          )\n",
       "        )\n",
       "        (1): Residual(\n",
       "          (_block): Sequential(\n",
       "            (0): ReLU(inplace=True)\n",
       "            (1): Conv2d(64, 32, kernel_size=(3, 3), stride=(1, 1), padding=(1, 1), bias=False)\n",
       "            (2): ReLU(inplace=True)\n",
       "            (3): Conv2d(32, 64, kernel_size=(1, 1), stride=(1, 1), bias=False)\n",
       "          )\n",
       "        )\n",
       "      )\n",
       "    )\n",
       "  )\n",
       "  (_vq_vae): VectorQuantizerEMA(\n",
       "    (_embedding): Embedding(5, 256)\n",
       "  )\n",
       "  (_decoder): Decoder(\n",
       "    (_residual_stack): ResidualStack(\n",
       "      (_layers): ModuleList(\n",
       "        (0): Residual(\n",
       "          (_block): Sequential(\n",
       "            (0): ReLU(inplace=True)\n",
       "            (1): Conv2d(64, 32, kernel_size=(3, 3), stride=(1, 1), padding=(1, 1), bias=False)\n",
       "            (2): ReLU(inplace=True)\n",
       "            (3): Conv2d(32, 64, kernel_size=(1, 1), stride=(1, 1), bias=False)\n",
       "          )\n",
       "        )\n",
       "        (1): Residual(\n",
       "          (_block): Sequential(\n",
       "            (0): ReLU(inplace=True)\n",
       "            (1): Conv2d(64, 32, kernel_size=(3, 3), stride=(1, 1), padding=(1, 1), bias=False)\n",
       "            (2): ReLU(inplace=True)\n",
       "            (3): Conv2d(32, 64, kernel_size=(1, 1), stride=(1, 1), bias=False)\n",
       "          )\n",
       "        )\n",
       "      )\n",
       "    )\n",
       "    (_conv_trans_1): ConvTranspose2d(64, 32, kernel_size=(4, 4), stride=(2, 2), padding=(1, 1))\n",
       "    (_conv_trans_2): ConvTranspose2d(32, 16, kernel_size=(4, 4), stride=(2, 2), padding=(1, 1))\n",
       "    (_conv_trans_3): ConvTranspose2d(16, 16, kernel_size=(4, 4), stride=(2, 2), padding=(1, 1))\n",
       "    (_conv_trans_4): ConvTranspose2d(16, 16, kernel_size=(4, 4), stride=(2, 2), padding=(1, 1))\n",
       "    (_conv_trans_5): ConvTranspose2d(16, 3, kernel_size=(4, 4), stride=(2, 2), padding=(1, 1))\n",
       "  )\n",
       ")"
      ]
     },
     "execution_count": 17,
     "metadata": {},
     "output_type": "execute_result"
    }
   ],
   "source": [
    "vqvae = VQVAE(**conf).cuda()\n",
    "vqvae.eval()"
   ]
  },
  {
   "cell_type": "code",
   "execution_count": 18,
   "metadata": {},
   "outputs": [
    {
     "data": {
      "text/plain": [
       "Parameter containing:\n",
       "tensor([[-0.1102, -0.7916,  1.9562,  ..., -0.8578, -0.3204,  0.1136],\n",
       "        [ 1.2376, -0.0906, -0.1662,  ...,  1.0134, -0.3483,  0.2869],\n",
       "        [-0.7507,  1.2513, -1.8358,  ..., -0.7457,  0.4604, -0.5721],\n",
       "        [ 0.4471, -0.6413,  1.0495,  ..., -0.0813,  1.0727, -0.0049],\n",
       "        [-0.5113, -0.4381, -0.2329,  ..., -0.5110, -1.2189, -0.5488]],\n",
       "       device='cuda:0', requires_grad=True)"
      ]
     },
     "execution_count": 18,
     "metadata": {},
     "output_type": "execute_result"
    }
   ],
   "source": [
    "vqvae._vq_vae._embedding.weight"
   ]
  },
  {
   "cell_type": "code",
   "execution_count": 19,
   "metadata": {},
   "outputs": [],
   "source": [
    "path = '../results/vqvae_0.2/mineRL/y77fc26u/checkpoints/epoch=808-step=61483.ckpt'\n",
    "\n",
    "path = '../results/vqvae_0.1/mineRL/2wgoga4p/checkpoints/epoch=833-step=62549.ckpt'\n",
    "path = '../results/vqvae_0.3/mineRL/1c4o6jgy/checkpoints/epoch=499-step=37999.ckpt'\n",
    "path = '../results/vqvae_2.0/mineRL/kbsmulhw/checkpoints/epoch=49-step=4499.ckpt'\n",
    "path = '../results/vqvae_3.1/mineRL/8ykl37mx/checkpoints/epoch=59-step=5399.ckpt'\n",
    "path = '../results/vqvae_3.0/mineRL/2vm6qyu3/checkpoints/epoch=59-step=5399.ckpt'\n",
    "checkpoint = torch.load(path)\n"
   ]
  },
  {
   "cell_type": "code",
   "execution_count": 20,
   "metadata": {},
   "outputs": [
    {
     "data": {
      "text/plain": [
       "<All keys matched successfully>"
      ]
     },
     "execution_count": 20,
     "metadata": {},
     "output_type": "execute_result"
    }
   ],
   "source": [
    "vqvae.load_state_dict(checkpoint['state_dict'])"
   ]
  },
  {
   "cell_type": "code",
   "execution_count": 21,
   "metadata": {},
   "outputs": [
    {
     "data": {
      "text/plain": [
       "Parameter containing:\n",
       "tensor([[0.2282, 0.2596, 0.0074,  ..., 0.1017, 0.4384, 0.0283],\n",
       "        [0.0996, 0.1963, 0.0131,  ..., 0.4418, 0.4686, 0.2346],\n",
       "        [0.8257, 1.5148, 0.0044,  ..., 0.5102, 0.4744, 0.3705],\n",
       "        [0.1653, 0.4933, 0.0081,  ..., 0.5788, 0.6306, 0.3510],\n",
       "        [0.7229, 1.3137, 0.0071,  ..., 0.3453, 0.4056, 0.2318]],\n",
       "       device='cuda:0', requires_grad=True)"
      ]
     },
     "execution_count": 21,
     "metadata": {},
     "output_type": "execute_result"
    }
   ],
   "source": [
    "vqvae._vq_vae._embedding.weight"
   ]
  },
  {
   "cell_type": "code",
   "execution_count": 22,
   "metadata": {
    "scrolled": false
   },
   "outputs": [
    {
     "data": {
      "image/png": "[encoded data removed]",
      "text/plain": [
       "<Figure size 432x288 with 1 Axes>"
      ]
     },
     "metadata": {
      "needs_background": "light"
     },
     "output_type": "display_data"
    },
    {
     "data": {
      "image/png": "[encoded data removed]",
      "text/plain": [
       "<Figure size 432x288 with 1 Axes>"
      ]
     },
     "metadata": {
      "needs_background": "light"
     },
     "output_type": "display_data"
    },
    {
     "data": {
      "image/png": "[encoded data removed]",
      "text/plain": [
       "<Figure size 432x288 with 1 Axes>"
      ]
     },
     "metadata": {
      "needs_background": "light"
     },
     "output_type": "display_data"
    },
    {
     "data": {
      "image/png": "[encoded data removed]",
      "text/plain": [
       "<Figure size 432x288 with 1 Axes>"
      ]
     },
     "metadata": {
      "needs_background": "light"
     },
     "output_type": "display_data"
    },
    {
     "data": {
      "image/png": "[encoded data removed]",
      "text/plain": [
       "<Figure size 432x288 with 1 Axes>"
      ]
     },
     "metadata": {
      "needs_background": "light"
     },
     "output_type": "display_data"
    },
    {
     "ename": "RuntimeError",
     "evalue": "CUDA error: device-side assert triggered",
     "output_type": "error",
     "traceback": [
      "\u001b[0;31m---------------------------------------------------------------------------\u001b[0m",
      "\u001b[0;31mRuntimeError\u001b[0m                              Traceback (most recent call last)",
      "\u001b[0;32m<ipython-input-22-52c7838c504c>\u001b[0m in \u001b[0;36m<module>\u001b[0;34m\u001b[0m\n\u001b[1;32m      1\u001b[0m \u001b[0;32mfor\u001b[0m \u001b[0mi\u001b[0m \u001b[0;32min\u001b[0m \u001b[0mrange\u001b[0m\u001b[0;34m(\u001b[0m\u001b[0;36m9\u001b[0m\u001b[0;34m)\u001b[0m\u001b[0;34m:\u001b[0m\u001b[0;34m\u001b[0m\u001b[0;34m\u001b[0m\u001b[0m\n\u001b[1;32m      2\u001b[0m     \u001b[0mout\u001b[0m \u001b[0;34m=\u001b[0m \u001b[0mvqvae\u001b[0m\u001b[0;34m.\u001b[0m\u001b[0mget_centroids\u001b[0m\u001b[0;34m(\u001b[0m\u001b[0mi\u001b[0m\u001b[0;34m)\u001b[0m\u001b[0;34m\u001b[0m\u001b[0;34m\u001b[0m\u001b[0m\n\u001b[0;32m----> 3\u001b[0;31m     \u001b[0mimg\u001b[0m \u001b[0;34m=\u001b[0m \u001b[0mout\u001b[0m\u001b[0;34m.\u001b[0m\u001b[0msqueeze\u001b[0m\u001b[0;34m(\u001b[0m\u001b[0;34m)\u001b[0m\u001b[0;34m.\u001b[0m\u001b[0mpermute\u001b[0m\u001b[0;34m(\u001b[0m\u001b[0;36m1\u001b[0m\u001b[0;34m,\u001b[0m\u001b[0;36m2\u001b[0m\u001b[0;34m,\u001b[0m\u001b[0;36m0\u001b[0m\u001b[0;34m)\u001b[0m\u001b[0;34m.\u001b[0m\u001b[0mdetach\u001b[0m\u001b[0;34m(\u001b[0m\u001b[0;34m)\u001b[0m\u001b[0;34m.\u001b[0m\u001b[0mcpu\u001b[0m\u001b[0;34m(\u001b[0m\u001b[0;34m)\u001b[0m\u001b[0;34m.\u001b[0m\u001b[0mnumpy\u001b[0m\u001b[0;34m(\u001b[0m\u001b[0;34m)\u001b[0m\u001b[0;34m\u001b[0m\u001b[0;34m\u001b[0m\u001b[0m\n\u001b[0m\u001b[1;32m      4\u001b[0m     \u001b[0mimg\u001b[0m \u001b[0;34m=\u001b[0m \u001b[0mimg\u001b[0m \u001b[0;34m+\u001b[0m \u001b[0;36m0.5\u001b[0m\u001b[0;34m\u001b[0m\u001b[0;34m\u001b[0m\u001b[0m\n\u001b[1;32m      5\u001b[0m     \u001b[0mimg\u001b[0m\u001b[0;34m[\u001b[0m\u001b[0mimg\u001b[0m\u001b[0;34m>\u001b[0m\u001b[0;36m1\u001b[0m\u001b[0;34m]\u001b[0m \u001b[0;34m=\u001b[0m \u001b[0;36m1\u001b[0m\u001b[0;34m\u001b[0m\u001b[0;34m\u001b[0m\u001b[0m\n",
      "\u001b[0;31mRuntimeError\u001b[0m: CUDA error: device-side assert triggered"
     ]
    }
   ],
   "source": [
    "for i in range(9):\n",
    "    out = vqvae.get_centroids(i)\n",
    "    img = out.squeeze().permute(1,2,0).detach().cpu().numpy()\n",
    "    img = img + 0.5\n",
    "    img[img>1] = 1\n",
    "    plt.imshow(img)\n",
    "    plt.show()\n",
    "    #plt.imsave(f\"../goal_states/sweep_vqvae/centroid_{i}.png\", img)\n",
    "    "
   ]
  },
  {
   "cell_type": "code",
   "execution_count": null,
   "metadata": {},
   "outputs": [],
   "source": []
  },
  {
   "cell_type": "code",
   "execution_count": null,
   "metadata": {},
   "outputs": [],
   "source": []
  },
  {
   "cell_type": "code",
   "execution_count": null,
   "metadata": {},
   "outputs": [],
   "source": []
  },
  {
   "cell_type": "code",
   "execution_count": null,
   "metadata": {},
   "outputs": [],
   "source": []
  },
  {
   "cell_type": "code",
   "execution_count": null,
   "metadata": {},
   "outputs": [],
   "source": []
  },
  {
   "cell_type": "code",
   "execution_count": null,
   "metadata": {},
   "outputs": [],
   "source": []
  }
 ],
 "metadata": {
  "kernelspec": {
   "display_name": "Python 3",
   "language": "python",
   "name": "python3"
  },
  "language_info": {
   "codemirror_mode": {
    "name": "ipython",
    "version": 3
   },
   "file_extension": ".py",
   "mimetype": "text/x-python",
   "name": "python",
   "nbconvert_exporter": "python",
   "pygments_lexer": "ipython3",
   "version": "3.6.12"
  }
 },
 "nbformat": 4,
 "nbformat_minor": 4
}
